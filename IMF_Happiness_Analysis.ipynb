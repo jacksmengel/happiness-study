{
 "cells": [
  {
   "cell_type": "markdown",
   "metadata": {},
   "source": [
    "Data:\n",
    "https://www.kaggle.com/unsdsn/world-happiness#2017.csv\n",
    "https://worldhappiness.report/ed/2019/\n",
    "https://www.imf.org/external/pubs/ft/weo/2019/01/weodata/download.aspx"
   ]
  },
  {
   "cell_type": "markdown",
   "metadata": {},
   "source": [
    "# Import Libraries, CSVs"
   ]
  },
  {
   "cell_type": "code",
   "execution_count": 383,
   "metadata": {},
   "outputs": [],
   "source": [
    "import pandas as pd\n",
    "pd.options.display.max_rows = 999\n",
    "pd.options.display.max_colwidth = 1000\n",
    "import numpy as np\n",
    "import matplotlib as plt\n",
    "plt.style.use('ggplot')"
   ]
  },
  {
   "cell_type": "code",
   "execution_count": 384,
   "metadata": {},
   "outputs": [],
   "source": [
    "happiness_2015 = pd.read_csv('/Users/jackmengel/Desktop/Projects/2015.csv')\n",
    "happiness_2016 = pd.read_csv('/Users/jackmengel/Desktop/Projects/2016.csv')\n",
    "happiness_2017 = pd.read_csv('/Users/jackmengel/Desktop/Projects/2017.csv')\n",
    "happiness_2018 = pd.read_csv('/Users/jackmengel/Desktop/Projects/2018.csv')\n",
    "happiness_2019 = pd.read_csv('/Users/jackmengel/Desktop/Projects/2019.csv')\n",
    "\n",
    "imf = pd.read_csv('/Users/jackmengel/Desktop/Projects/IMFEconData_20190630.csv', encoding = 'latin1')"
   ]
  },
  {
   "cell_type": "markdown",
   "metadata": {},
   "source": [
    "# Transform IMF file into usable DataFrame"
   ]
  },
  {
   "cell_type": "code",
   "execution_count": 385,
   "metadata": {},
   "outputs": [],
   "source": [
    "imf_pivot = imf.transpose()\n",
    "imf_pivot.columns = imf_pivot.iloc[0]\n",
    "imf_pivot = imf_pivot.reset_index()\n",
    "imf_pivot = imf_pivot.drop(0)\n",
    "imf_pivot.iloc[0,0] = \"Year\"\n",
    "imf_pivot.head()\n",
    "\n",
    "train = pd.DataFrame()\n",
    "countries = imf['Country'].unique()\n",
    "\n",
    "for i in countries:\n",
    "    global imf_pivot\n",
    "    global train\n",
    "    \n",
    "    df = pd.DataFrame(\n",
    "        columns = ['Year', 'Country']\n",
    "    )\n",
    "    df['Year'] = imf_pivot['index'].iloc[1:]\n",
    "    df['Country'] = i\n",
    "    \n",
    "    df = pd.concat(\n",
    "        [\n",
    "            df,\n",
    "            imf_pivot.loc[:, i]\n",
    "        ],\n",
    "        axis = 1\n",
    "    )\n",
    "    \n",
    "    df = df.drop(df.index[len(df)-1])\n",
    "    df.iloc[0,0] = \"Year\"\n",
    "    df.iloc[0,1] = \"Country\"\n",
    "    df.columns = df.iloc[0]\n",
    "    df = df.drop(1)\n",
    "    \n",
    "    train = pd.concat(\n",
    "        [\n",
    "            train,\n",
    "            df\n",
    "        ],\n",
    "        axis = 0\n",
    "    )\n",
    "    \n",
    "train['Year'] = train['Year'].astype('int64')"
   ]
  },
  {
   "cell_type": "markdown",
   "metadata": {},
   "source": [
    "# Aggregate happiness metrics into one DataFrame"
   ]
  },
  {
   "cell_type": "code",
   "execution_count": 386,
   "metadata": {},
   "outputs": [],
   "source": [
    "happiness_15 = pd.DataFrame(\n",
    "    columns = ['Year', 'Country', 'Happiness Score']\n",
    ")\n",
    "\n",
    "happiness_15['Country'] = happiness_2015['Country']\n",
    "happiness_15['Happiness Score'] = happiness_2015['Happiness Score']\n",
    "happiness_15['Year'] = 2015\n",
    "\n",
    "happiness_16 = pd.DataFrame(\n",
    "    columns = ['Year', 'Country', 'Happiness Score']\n",
    ")\n",
    "\n",
    "happiness_16['Country'] = happiness_2016['Country']\n",
    "happiness_16['Happiness Score'] = happiness_2016['Happiness Score']\n",
    "happiness_16['Year'] = 2016\n",
    "\n",
    "happiness_17 = pd.DataFrame(\n",
    "    columns = ['Year', 'Country', 'Happiness Score']\n",
    ")\n",
    "\n",
    "happiness_17['Country'] = happiness_2017['Country']\n",
    "happiness_17['Happiness Score'] = happiness_2017['Happiness.Score']\n",
    "happiness_17['Year'] = 2017\n",
    "\n",
    "happiness_18 = pd.DataFrame(\n",
    "    columns = ['Year', 'Country', 'Happiness Score']\n",
    ")\n",
    "\n",
    "happiness_18['Country'] = happiness_2018['Country']\n",
    "happiness_18['Happiness Score'] = happiness_2018['Happiness score']\n",
    "happiness_18['Year'] = 2018\n",
    "\n",
    "happiness_19 = pd.DataFrame(\n",
    "    columns = ['Year', 'Country', 'Happiness Score']\n",
    ")\n",
    "\n",
    "happiness_19['Country'] = happiness_2019['Country']\n",
    "happiness_19['Happiness Score'] = happiness_2019['Happiness score']\n",
    "happiness_19['Year'] = 2019\n",
    "\n",
    "happiness = pd.concat(\n",
    "    [\n",
    "        happiness_15,\n",
    "        happiness_16,\n",
    "        happiness_17,\n",
    "        happiness_18,\n",
    "        happiness_19\n",
    "    ],\n",
    "    axis = 0\n",
    ")"
   ]
  },
  {
   "cell_type": "markdown",
   "metadata": {},
   "source": [
    "# Join IMF and Happiness Reports\n",
    "# Update country names in IMF to match Happiness reports"
   ]
  },
  {
   "cell_type": "code",
   "execution_count": 387,
   "metadata": {},
   "outputs": [],
   "source": [
    "train.loc[train.Country == 'Slovak Republic', 'Country'] = 'Slovakia'\n",
    "train.loc[train.Country == 'Korea', 'Country'] = 'South Korea'\n",
    "train.loc[train.Country == 'Taiwan Province of China', 'Country'] = 'Taiwan'\n",
    "train.loc[train.Country == 'Hong Kong SAR', 'Country'] = 'Hong Kong S.A.R., China'\n",
    "\n",
    "train = pd.merge(\n",
    "    train,\n",
    "    happiness,\n",
    "    on = ['Year', 'Country'],\n",
    "    how = 'left'\n",
    ")"
   ]
  },
  {
   "cell_type": "markdown",
   "metadata": {},
   "source": [
    "# DQ check: make sure country names are matching\n",
    "## A few missing i.e. Iran"
   ]
  },
  {
   "cell_type": "code",
   "execution_count": 388,
   "metadata": {},
   "outputs": [
    {
     "data": {
      "text/html": [
       "<div>\n",
       "<style scoped>\n",
       "    .dataframe tbody tr th:only-of-type {\n",
       "        vertical-align: middle;\n",
       "    }\n",
       "\n",
       "    .dataframe tbody tr th {\n",
       "        vertical-align: top;\n",
       "    }\n",
       "\n",
       "    .dataframe thead th {\n",
       "        text-align: right;\n",
       "    }\n",
       "</style>\n",
       "<table border=\"1\" class=\"dataframe\">\n",
       "  <thead>\n",
       "    <tr style=\"text-align: right;\">\n",
       "      <th></th>\n",
       "      <th>Happiness_Country</th>\n",
       "      <th>IMF_Country</th>\n",
       "    </tr>\n",
       "  </thead>\n",
       "  <tbody>\n",
       "    <tr>\n",
       "      <th>65</th>\n",
       "      <td>North Cyprus</td>\n",
       "      <td>NaN</td>\n",
       "    </tr>\n",
       "    <tr>\n",
       "      <th>71</th>\n",
       "      <td>Hong Kong</td>\n",
       "      <td>NaN</td>\n",
       "    </tr>\n",
       "    <tr>\n",
       "      <th>76</th>\n",
       "      <td>Kyrgyzstan</td>\n",
       "      <td>NaN</td>\n",
       "    </tr>\n",
       "    <tr>\n",
       "      <th>90</th>\n",
       "      <td>Somaliland region</td>\n",
       "      <td>NaN</td>\n",
       "    </tr>\n",
       "    <tr>\n",
       "      <th>92</th>\n",
       "      <td>Macedonia</td>\n",
       "      <td>NaN</td>\n",
       "    </tr>\n",
       "    <tr>\n",
       "      <th>98</th>\n",
       "      <td>Laos</td>\n",
       "      <td>NaN</td>\n",
       "    </tr>\n",
       "    <tr>\n",
       "      <th>100</th>\n",
       "      <td>Swaziland</td>\n",
       "      <td>NaN</td>\n",
       "    </tr>\n",
       "    <tr>\n",
       "      <th>107</th>\n",
       "      <td>Palestinian Territories</td>\n",
       "      <td>NaN</td>\n",
       "    </tr>\n",
       "    <tr>\n",
       "      <th>109</th>\n",
       "      <td>Iran</td>\n",
       "      <td>NaN</td>\n",
       "    </tr>\n",
       "    <tr>\n",
       "      <th>119</th>\n",
       "      <td>Congo (Kinshasa)</td>\n",
       "      <td>NaN</td>\n",
       "    </tr>\n",
       "    <tr>\n",
       "      <th>138</th>\n",
       "      <td>Congo (Brazzaville)</td>\n",
       "      <td>NaN</td>\n",
       "    </tr>\n",
       "    <tr>\n",
       "      <th>150</th>\n",
       "      <td>Ivory Coast</td>\n",
       "      <td>NaN</td>\n",
       "    </tr>\n",
       "    <tr>\n",
       "      <th>161</th>\n",
       "      <td>Somaliland Region</td>\n",
       "      <td>NaN</td>\n",
       "    </tr>\n",
       "    <tr>\n",
       "      <th>164</th>\n",
       "      <td>Taiwan Province of China</td>\n",
       "      <td>NaN</td>\n",
       "    </tr>\n",
       "    <tr>\n",
       "      <th>166</th>\n",
       "      <td>Trinidad &amp; Tobago</td>\n",
       "      <td>NaN</td>\n",
       "    </tr>\n",
       "    <tr>\n",
       "      <th>167</th>\n",
       "      <td>Northern Cyprus</td>\n",
       "      <td>NaN</td>\n",
       "    </tr>\n",
       "    <tr>\n",
       "      <th>168</th>\n",
       "      <td>Hong Kong SAR, China</td>\n",
       "      <td>NaN</td>\n",
       "    </tr>\n",
       "    <tr>\n",
       "      <th>169</th>\n",
       "      <td>Hong Kong S.A.R. of China</td>\n",
       "      <td>NaN</td>\n",
       "    </tr>\n",
       "    <tr>\n",
       "      <th>170</th>\n",
       "      <td>Gambia</td>\n",
       "      <td>NaN</td>\n",
       "    </tr>\n",
       "  </tbody>\n",
       "</table>\n",
       "</div>"
      ],
      "text/plain": [
       "             Happiness_Country IMF_Country\n",
       "65                North Cyprus         NaN\n",
       "71                   Hong Kong         NaN\n",
       "76                  Kyrgyzstan         NaN\n",
       "90           Somaliland region         NaN\n",
       "92                   Macedonia         NaN\n",
       "98                        Laos         NaN\n",
       "100                  Swaziland         NaN\n",
       "107    Palestinian Territories         NaN\n",
       "109                       Iran         NaN\n",
       "119           Congo (Kinshasa)         NaN\n",
       "138        Congo (Brazzaville)         NaN\n",
       "150                Ivory Coast         NaN\n",
       "161          Somaliland Region         NaN\n",
       "164   Taiwan Province of China         NaN\n",
       "166          Trinidad & Tobago         NaN\n",
       "167            Northern Cyprus         NaN\n",
       "168       Hong Kong SAR, China         NaN\n",
       "169  Hong Kong S.A.R. of China         NaN\n",
       "170                     Gambia         NaN"
      ]
     },
     "execution_count": 388,
     "metadata": {},
     "output_type": "execute_result"
    }
   ],
   "source": [
    "df1 = pd.DataFrame(\n",
    "    columns = ['Happiness_Country'],\n",
    "    data = happiness['Country'].unique()\n",
    ")\n",
    "\n",
    "df2 = pd.DataFrame(\n",
    "    columns = ['IMF_Country'],\n",
    "    data = train['Country'][train['Happiness Score'] > 0].unique()\n",
    ")\n",
    "\n",
    "df3 = pd.merge(\n",
    "    df1,\n",
    "    df2,\n",
    "    left_on = ['Happiness_Country'],\n",
    "    right_on = ['IMF_Country'],\n",
    "    how = 'outer'\n",
    ")\n",
    "\n",
    "df3[pd.isnull(df3.IMF_Country)]"
   ]
  },
  {
   "cell_type": "markdown",
   "metadata": {},
   "source": [
    "# Filter for years where we have Happiness data (2015-2019)\n",
    "# Clean data (remove commas)"
   ]
  },
  {
   "cell_type": "code",
   "execution_count": 413,
   "metadata": {},
   "outputs": [
    {
     "name": "stderr",
     "output_type": "stream",
     "text": [
      "/Users/jackmengel/anaconda3/lib/python3.6/site-packages/pandas/core/frame.py:2540: SettingWithCopyWarning: \n",
      "A value is trying to be set on a copy of a slice from a DataFrame.\n",
      "Try using .loc[row_indexer,col_indexer] = value instead\n",
      "\n",
      "See the caveats in the documentation: http://pandas.pydata.org/pandas-docs/stable/indexing.html#indexing-view-versus-copy\n",
      "  self[k1] = value[k2]\n"
     ]
    }
   ],
   "source": [
    "train_current = train[(train.Year >= 2015) & (train.Year <= 2019)]\n",
    "\n",
    "current_cols = train_current.columns.drop(['Country', 'Year', 'Happiness Score'])\n",
    "train_current[current_cols] = train_current[current_cols].replace(\n",
    "    {\n",
    "        ',' : '',\n",
    "        '--' : ''\n",
    "    }, \n",
    "    regex = True\n",
    ")\n",
    "train_current[current_cols] = train_current[current_cols].apply(pd.to_numeric)"
   ]
  },
  {
   "cell_type": "markdown",
   "metadata": {},
   "source": [
    "# Remove columns with sparse data"
   ]
  },
  {
   "cell_type": "code",
   "execution_count": 418,
   "metadata": {},
   "outputs": [],
   "source": [
    "counts = train_current.count().reset_index()\n",
    "counts.columns = ['col', 'count']\n",
    "counts = counts[counts['count'] < (.7 * 970)]\n",
    "train_current = train_current.drop(counts['col'], axis = 1)"
   ]
  },
  {
   "cell_type": "markdown",
   "metadata": {},
   "source": [
    "# Run correlation and visualize!"
   ]
  },
  {
   "cell_type": "code",
   "execution_count": 419,
   "metadata": {},
   "outputs": [
    {
     "name": "stdout",
     "output_type": "stream",
     "text": [
      "                                                                                                    index  \\\n",
      "38                                                                                        Happiness Score   \n",
      "10                                         Gross domestic product per capita, current prices-U.S. dollars   \n",
      "8   Gross domestic product per capita, constant prices-Purchasing power parity; 2011 international dollar   \n",
      "11       Gross domestic product per capita, current prices-Purchasing power parity; international dollars   \n",
      "26                                                              General government revenue-Percent of GDP   \n",
      "37                                                                 Current account balance-Percent of GDP   \n",
      "28                                                    General government total expenditure-Percent of GDP   \n",
      "15                                                                  Gross national savings-Percent of GDP   \n",
      "4                                                     Gross domestic product, current prices-U.S. dollars   \n",
      "13                         Implied PPP conversion rate-National currency per current international dollar   \n",
      "12             Gross domestic product based on purchasing-power-parity (PPP) share of world total-Percent   \n",
      "5                   Gross domestic product, current prices-Purchasing power parity; international dollars   \n",
      "30                                                General government net lending/borrowing-Percent of GDP   \n",
      "23                                                              Volume of exports of goods-Percent change   \n",
      "32                                        General government primary net lending/borrowing-Percent of GDP   \n",
      "16                                                               Inflation, average consumer prices-Index   \n",
      "22                                                 Volume of exports of goods and services-Percent change   \n",
      "2                                                  Gross domestic product, constant prices-Percent change   \n",
      "24                                                                                     Population-Persons   \n",
      "34                                                           General government gross debt-Percent of GDP   \n",
      "31                                     General government primary net lending/borrowing-National currency   \n",
      "29                                             General government net lending/borrowing-National currency   \n",
      "19                                                Inflation, end of period consumer prices-Percent change   \n",
      "17                                                      Inflation, average consumer prices-Percent change   \n",
      "36                                                                   Current account balance-U.S. dollars   \n",
      "21                                                              Volume of Imports of goods-Percent change   \n",
      "18                                                         Inflation, end of period consumer prices-Index   \n",
      "7                                    Gross domestic product per capita, constant prices-National currency   \n",
      "14                                                                        Total investment-Percent of GDP   \n",
      "3                                                Gross domestic product, current prices-National currency   \n",
      "35                  Gross domestic product corresponding to fiscal year, current prices-National currency   \n",
      "27                                                 General government total expenditure-National currency   \n",
      "6                                                                  Gross domestic product, deflator-Index   \n",
      "33                                                        General government gross debt-National currency   \n",
      "25                                                           General government revenue-National currency   \n",
      "1                                               Gross domestic product, constant prices-National currency   \n",
      "20                                                 Volume of imports of goods and services-Percent change   \n",
      "9                                     Gross domestic product per capita, current prices-National currency   \n",
      "0                                                                                                    Year   \n",
      "\n",
      "    Happiness Score  happiness_abs  \n",
      "38         1.000000       1.000000  \n",
      "10         0.725127       0.725127  \n",
      "8          0.711025       0.711025  \n",
      "11         0.709893       0.709893  \n",
      "26         0.496339       0.496339  \n",
      "37         0.420818       0.420818  \n",
      "28         0.372272       0.372272  \n",
      "15         0.330299       0.330299  \n",
      "4          0.195653       0.195653  \n",
      "13        -0.143059       0.143059  \n",
      "12         0.137062       0.137062  \n",
      "5          0.134719       0.134719  \n",
      "30         0.125959       0.125959  \n",
      "23        -0.119213       0.119213  \n",
      "32         0.091362       0.091362  \n",
      "16         0.074788       0.074788  \n",
      "22        -0.065631       0.065631  \n",
      "2         -0.063783       0.063783  \n",
      "24        -0.047761       0.047761  \n",
      "34         0.044525       0.044525  \n",
      "31         0.029818       0.029818  \n",
      "29         0.028965       0.028965  \n",
      "19        -0.026099       0.026099  \n",
      "17        -0.025315       0.025315  \n",
      "36         0.022773       0.022773  \n",
      "21        -0.021964       0.021964  \n",
      "18         0.019665       0.019665  \n",
      "7          0.018788       0.018788  \n",
      "14        -0.018067       0.018067  \n",
      "3         -0.014453       0.014453  \n",
      "35        -0.014147       0.014147  \n",
      "27        -0.013223       0.013223  \n",
      "6         -0.011994       0.011994  \n",
      "33        -0.010702       0.010702  \n",
      "25        -0.010247       0.010247  \n",
      "1         -0.010200       0.010200  \n",
      "20        -0.007654       0.007654  \n",
      "9          0.002553       0.002553  \n",
      "0          0.002049       0.002049  \n"
     ]
    }
   ],
   "source": [
    "corr = train_current.corr()\n",
    "\n",
    "happiness_corr = pd.DataFrame(\n",
    "    columns = ['index', 'Happiness Score'],\n",
    "    data = corr['Happiness Score'].reset_index()\n",
    ")\n",
    "happiness_corr['happiness_abs'] = happiness_corr['Happiness Score'].abs()\n",
    "\n",
    "print(happiness_corr.sort_values(by = 'happiness_abs', ascending = False))"
   ]
  },
  {
   "cell_type": "code",
   "execution_count": 422,
   "metadata": {},
   "outputs": [
    {
     "data": {
      "text/plain": [
       "Text(0,0.5,'Govt Revenue (% GDP)')"
      ]
     },
     "execution_count": 422,
     "metadata": {},
     "output_type": "execute_result"
    },
    {
     "data": {
      "image/png": "[encoded data removed]",
      "text/plain": [
       "<matplotlib.figure.Figure at 0x11f1c62b0>"
      ]
     },
     "metadata": {},
     "output_type": "display_data"
    }
   ],
   "source": [
    "govt_rev = train_current.plot(\n",
    "    x = 'Happiness Score', \n",
    "    y = 'General government revenue-Percent of GDP',\n",
    "    kind = 'scatter',\n",
    "    title = 'Government Revenue (% GDP)',\n",
    "    xlim = [0,10],\n",
    "    ylim = [0,100]\n",
    ")\n",
    "govt_rev.set_xlabel(\"Happiness Score\")\n",
    "govt_rev.set_ylabel(\"Govt Revenue (% GDP)\")"
   ]
  },
  {
   "cell_type": "code",
   "execution_count": 429,
   "metadata": {},
   "outputs": [
    {
     "data": {
      "text/plain": [
       "Text(0,0.5,'GDP per Capita (US Dollars)')"
      ]
     },
     "execution_count": 429,
     "metadata": {},
     "output_type": "execute_result"
    },
    {
     "data": {
      "image/png": "[encoded data removed]",
      "text/plain": [
       "<matplotlib.figure.Figure at 0x1205fcd68>"
      ]
     },
     "metadata": {},
     "output_type": "display_data"
    }
   ],
   "source": [
    "gdp = train_current.plot(\n",
    "    x = 'Happiness Score', \n",
    "    y = 'Gross domestic product per capita, current prices-U.S. dollars',\n",
    "    kind = 'scatter',\n",
    "    title = 'GDP per Capita (US Dollars)',\n",
    "    xlim = [0,10]\n",
    ")\n",
    "gdp.set_xlabel(\"Happiness Score\")\n",
    "gdp.set_ylabel(\"GDP per Capita (US Dollars)\")"
   ]
  },
  {
   "cell_type": "code",
   "execution_count": 432,
   "metadata": {},
   "outputs": [
    {
     "data": {
      "text/plain": [
       "Text(0,0.5,'Current Account Balance (% GDP)')"
      ]
     },
     "execution_count": 432,
     "metadata": {},
     "output_type": "execute_result"
    },
    {
     "data": {
      "image/png": "[encoded data removed]",
      "text/plain": [
       "<matplotlib.figure.Figure at 0x11873aa20>"
      ]
     },
     "metadata": {},
     "output_type": "display_data"
    }
   ],
   "source": [
    "curr_acct = train_current.plot(\n",
    "    x = 'Happiness Score', \n",
    "    y = 'Current account balance-Percent of GDP',\n",
    "    kind = 'scatter',\n",
    "    title = 'Current Account Balance (% GDP)',\n",
    "    xlim = [0,10]\n",
    ")\n",
    "curr_acct.set_xlabel(\"Happiness Score\")\n",
    "curr_acct.set_ylabel(\"Current Account Balance (% GDP)\")"
   ]
  }
 ],
 "metadata": {
  "kernelspec": {
   "display_name": "Python 3",
   "language": "python",
   "name": "python3"
  },
  "language_info": {
   "codemirror_mode": {
    "name": "ipython",
    "version": 3
   },
   "file_extension": ".py",
   "mimetype": "text/x-python",
   "name": "python",
   "nbconvert_exporter": "python",
   "pygments_lexer": "ipython3",
   "version": "3.6.4"
  }
 },
 "nbformat": 4,
 "nbformat_minor": 2
}
